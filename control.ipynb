{
 "cells": [
  {
   "cell_type": "code",
   "execution_count": 5,
   "id": "7c3e8fd5-489a-4ce4-af2d-74c4da55c3e9",
   "metadata": {
    "tags": []
   },
   "outputs": [],
   "source": [
    "from scipy.optimize import least_squares\n",
    "import numpy as np"
   ]
  },
  {
   "cell_type": "code",
   "execution_count": 1,
   "id": "f4eb2da1-1dab-4b6e-97e4-5498090b124c",
   "metadata": {
    "tags": []
   },
   "outputs": [],
   "source": [
    "# Define a function for matrix multiplication\n",
    "def matrix_multiply(A, B):\n",
    "    return np.dot(A, B)\n",
    "\n",
    "# mpcgain function\n",
    "def mpcgain(Ad, Bd, Cd, Nc, Np):\n",
    "    \n",
    "    # Augmented Discrete-time model of Ad, Bd, Cd matrix\n",
    "    N_outputs, N_states = Cd.shape\n",
    "    N_states, N_inputs = Bd.shape\n",
    "    \n",
    "    # A 만들기\n",
    "    #          Bd행(=Ad행)  Cd행\n",
    "    Ae = np.eye(N_states + N_outputs)\n",
    "    Ae[:N_states, :N_states] = Ad\n",
    "    Ae[N_states:, :N_states] = np.dot(Cd, Ad)\n",
    "    \n",
    "    # B 만들기\n",
    "    #              Bd행       Cd행       Bd열\n",
    "    Be = np.zeros((N_states + N_outputs, N_inputs))\n",
    "    Be[:N_states, :] = Bd\n",
    "    Be[N_states:, :] = np.dot(Cd, Bd)\n",
    "    \n",
    "    # C 만들기\n",
    "    #              Cd행       Cd열       Cd행\n",
    "    Ce = np.zeros((N_outputs, N_states + N_outputs))\n",
    "    #Ce[:, :N_states] = Cd\n",
    "    Ce[:, N_states:] = np.eye(N_outputs)\n",
    "    \n",
    "    # h는 Phi만들때 사용한다.\n",
    "    h = Ce\n",
    "    # 이놈은 그냥 F 다.\n",
    "    F = Ce @ Ae\n",
    "\n",
    "    for k in range(2, Np + 1):\n",
    "        h = np.concatenate([h, h[-Ce.shape[0]:, :]@Ae], axis=0)\n",
    "        F = np.concatenate([F, (F[-Ce.shape[0]:]@ Ae)], axis=0) \n",
    "\n",
    "    v = Ce@Be\n",
    "    for i in range(1, Np):\n",
    "        v = np.concatenate([v, h[Cd.shape[0]*i:Cd.shape[0]*(i+1)]@Be], axis=0)\n",
    "\n",
    "\n",
    "    Phi = v\n",
    "    for i in range(1, Nc):\n",
    "        Phi = np.concatenate([Phi, np.concatenate([np.zeros((Ce.shape[0]*i, Be.shape[1])), v[:Ce.shape[0]*(Np-i)]], axis=0)], axis=1)\n",
    "    \n",
    "    \n",
    "    #Phi = np.zeros((Np, Nc))\n",
    "    #Phi[:, 0] = v[:, 0].reshape(Phi[:, 0].shape) # first column of Phi\n",
    "\n",
    "    #for i in range(1, Nc):\n",
    "    #    Phi[:, i] = np.concatenate([np.zeros(i), v[:Np - i, 0]], axis=0).reshape(Phi[:, i].shape)\n",
    "\n",
    "    #Rs = r[:Np]   \n",
    "    #Phi_T_F = matrix_multiply(Phi.T, F)\n",
    "    #Phi_T_R = matrix_multiply(Phi.T, Rs)\n",
    "    \n",
    "    return Phi, F, Ae, Be, Ce"
   ]
  },
  {
   "cell_type": "code",
   "execution_count": 2,
   "id": "71fca287-e37c-459f-9fc2-1e70cdd328b6",
   "metadata": {
    "tags": []
   },
   "outputs": [],
   "source": [
    "def fun(DeltaU, r, F, xf, Phi, R_bar):\n",
    "    DeltaU = DeltaU.reshape(-1, 1)\n",
    "    Y = F@xf + Phi @ DeltaU\n",
    "    return ((r-Y).T @ (r-Y) + DeltaU.T @ R_bar @ DeltaU)[0]"
   ]
  },
  {
   "cell_type": "code",
   "execution_count": 3,
   "id": "70e83592-e3bb-45ef-ba14-e3fdb5a8fd6f",
   "metadata": {
    "tags": []
   },
   "outputs": [],
   "source": [
    "def jac(DeltaU, r, F, xf, Phi, R_bar):\n",
    "    DeltaU = DeltaU.reshape(-1, 1)\n",
    "    a = -2 * Phi.T @ (r - F@xf) + 2*(Phi.T@Phi + R_bar)@DeltaU\n",
    "    return a.T"
   ]
  },
  {
   "cell_type": "code",
   "execution_count": null,
   "id": "56e922f0-3692-47a2-b9e1-b62932ecbb47",
   "metadata": {},
   "outputs": [],
   "source": []
  }
 ],
 "metadata": {
  "kernelspec": {
   "display_name": "Python 3 (ipykernel)",
   "language": "python",
   "name": "python3"
  },
  "language_info": {
   "codemirror_mode": {
    "name": "ipython",
    "version": 3
   },
   "file_extension": ".py",
   "mimetype": "text/x-python",
   "name": "python",
   "nbconvert_exporter": "python",
   "pygments_lexer": "ipython3",
   "version": "3.9.18"
  }
 },
 "nbformat": 4,
 "nbformat_minor": 5
}
